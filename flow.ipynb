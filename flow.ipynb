{
 "cells": [
  {
   "cell_type": "code",
   "execution_count": null,
   "metadata": {},
   "outputs": [],
   "source": [
    "import utils\n",
    "import os"
   ]
  },
  {
   "cell_type": "code",
   "execution_count": null,
   "metadata": {},
   "outputs": [],
   "source": [
    "input_path = 'D:/東元/G.csvdata/original/'\n",
    "sample_rate = 256 # input data sample rate\n",
    "modelname = 'ART' # or 'ICUNet', 'ICUNet++', 'ICUNet_attn', 'ART'\n",
    "output_path = 'D:/東元/G.csvdata/generative/'"
   ]
  },
  {
   "cell_type": "code",
   "execution_count": null,
   "metadata": {},
   "outputs": [],
   "source": [
    "from os import walk\n",
    "utils.dataDelete(\"./temp2/\")\n",
    "#model = ['ART', 'ICUNet++', 'ICUNet', 'ICUNet_attn']\n",
    "model = ['ART', 'ICUNet']\n",
    "for (dirpath, dirnames, filenames) in walk(input_path):\n",
    "\n",
    "    for f in filenames:\n",
    "        for m in model:\n",
    "            preprocess_data = utils.preprocessing(input_path+f, sample_rate)\n",
    "            print(f[:-4] + \"_\" + str(m) + f[-4:])\n",
    "            output_name = f[:-4] + \"_\" + str(m) + f[-4:]\n",
    "            # step2: Signal reconstruction\n",
    "            utils.reconstruct(m, preprocess_data, output_path+output_name)"
   ]
  }
 ],
 "metadata": {
  "kernelspec": {
   "display_name": "ART",
   "language": "python",
   "name": "python3"
  },
  "language_info": {
   "codemirror_mode": {
    "name": "ipython",
    "version": 3
   },
   "file_extension": ".py",
   "mimetype": "text/x-python",
   "name": "python",
   "nbconvert_exporter": "python",
   "pygments_lexer": "ipython3",
   "version": "3.11.5"
  }
 },
 "nbformat": 4,
 "nbformat_minor": 2
}
